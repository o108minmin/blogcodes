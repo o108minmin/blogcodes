{
 "cells": [
  {
   "cell_type": "code",
   "execution_count": 1,
   "metadata": {
    "collapsed": true
   },
   "outputs": [],
   "source": [
    "import pint as pn\n",
    "import inspect"
   ]
  },
  {
   "cell_type": "code",
   "execution_count": 2,
   "metadata": {
    "collapsed": false
   },
   "outputs": [
    {
     "name": "stdout",
     "output_type": "stream",
     "text": [
      "def stringtofraction(arg):\n",
      "    if math.floor(float(arg)) != math.ceil(float(arg)):\n",
      "        arg_up, arg_down = arg.split(\".\")\n",
      "        ans = fractions.Fraction(0, 1)\n",
      "        for i in range(0, len(arg_down)):\n",
      "            ans += fractions.Fraction(int(arg_down[i]), 10 ** (i + 1))\n",
      "        ans += fractions.Fraction(int(arg_up), 1)\n",
      "    else:\n",
      "        ans = fractions.Fraction(int(arg), 1)\n",
      "    return ans\n",
      "\n"
     ]
    }
   ],
   "source": [
    "print(inspect.getsource(pn.floattools.stringtofraction))"
   ]
  },
  {
   "cell_type": "code",
   "execution_count": 3,
   "metadata": {
    "collapsed": true
   },
   "outputs": [],
   "source": [
    "a = pn.floattools.stringtofraction(\"0.1\")"
   ]
  },
  {
   "cell_type": "code",
   "execution_count": 4,
   "metadata": {
    "collapsed": false
   },
   "outputs": [
    {
     "name": "stdout",
     "output_type": "stream",
     "text": [
      "1/10\n"
     ]
    }
   ],
   "source": [
    "print(a)"
   ]
  }
 ],
 "metadata": {
  "kernelspec": {
   "display_name": "Python 3",
   "language": "python",
   "name": "python3"
  },
  "language_info": {
   "codemirror_mode": {
    "name": "ipython",
    "version": 3
   },
   "file_extension": ".py",
   "mimetype": "text/x-python",
   "name": "python",
   "nbconvert_exporter": "python",
   "pygments_lexer": "ipython3",
   "version": "3.5.1"
  }
 },
 "nbformat": 4,
 "nbformat_minor": 0
}

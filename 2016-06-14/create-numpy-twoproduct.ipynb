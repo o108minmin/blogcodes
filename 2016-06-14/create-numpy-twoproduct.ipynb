{
 "cells": [
  {
   "cell_type": "code",
   "execution_count": 1,
   "metadata": {
    "collapsed": true
   },
   "outputs": [],
   "source": [
    "import numpy as np\n",
    "from pint.core import roundfloat as rf"
   ]
  },
  {
   "cell_type": "code",
   "execution_count": 2,
   "metadata": {
    "collapsed": true
   },
   "outputs": [],
   "source": [
    "def split(a):\n",
    "    tmp = a * (2**27 + 1)\n",
    "    x = tmp - (tmp - a)\n",
    "    y = a - x\n",
    "    return x, y"
   ]
  },
  {
   "cell_type": "code",
   "execution_count": 3,
   "metadata": {
    "collapsed": true
   },
   "outputs": [],
   "source": [
    "def twoproduct(a, b):\n",
    "        x = np.zeros(a.shape)\n",
    "        y = np.zeros(a.shape)\n",
    "        aB2 = abs(a) > 2. ** 996\n",
    "        a[aB2] *= 2. ** (-28)\n",
    "        b[aB2] *= 2. ** 28\n",
    "        bB2 = abs(b) > 2. ** 996\n",
    "        a[bB2] *= 2. ** 28\n",
    "        b[bB2] *= 2. ** (-28)\n",
    "        aHm, aLm = split(a)\n",
    "        bHm, bLm = split(b)\n",
    "        x = a * b\n",
    "        xB2 = abs(x) > 2. ** 1023\n",
    "        aH = aHm[xB2]\n",
    "        aL = aLm[xB2]\n",
    "        bH = bHm[xB2]\n",
    "        bL = bLm[xB2]\n",
    "        y[xB2] = aL * bL - ((((x[xB2] * 0.5) - (aH * 0.5) * bH) * 2. - aL * bH) - aH * bL)\n",
    "        xB2r = ~xB2\n",
    "        aH = aHm[xB2r]\n",
    "        aL = aLm[xB2r]\n",
    "        bH = bHm[xB2r]\n",
    "        bL = bLm[xB2r]\n",
    "        y[xB2r] = aL * bL - (((x[xB2r] - aH * bH) - aL * bH) - aH * bL)\n",
    "        return x, y"
   ]
  },
  {
   "cell_type": "code",
   "execution_count": 4,
   "metadata": {
    "collapsed": true
   },
   "outputs": [],
   "source": [
    "pntwoproduct = rf.twoproduct\n",
    "def twoproduct_old(a, b):\n",
    "    x = np.zeros(a.shape)\n",
    "    y = np.zeros(a.shape)\n",
    "    lenx = len(x)\n",
    "    for i in range(0, lenx):\n",
    "        for j in range(0, lenx):\n",
    "            x[i][j], y[i][j] = pntwoproduct(a[i][j], b[i][j])\n",
    "    return x, y"
   ]
  },
  {
   "cell_type": "code",
   "execution_count": 5,
   "metadata": {
    "collapsed": true
   },
   "outputs": [],
   "source": [
    "size = 1000\n",
    "a = np.random.rand(size, size)\n",
    "b = np.random.rand(size, size)"
   ]
  },
  {
   "cell_type": "code",
   "execution_count": 6,
   "metadata": {
    "collapsed": true
   },
   "outputs": [],
   "source": [
    "x, y = twoproduct(a, b)\n",
    "old_x, old_y = twoproduct_old(a, b)"
   ]
  },
  {
   "cell_type": "code",
   "execution_count": 7,
   "metadata": {
    "collapsed": false
   },
   "outputs": [
    {
     "name": "stdout",
     "output_type": "stream",
     "text": [
      "[]\n",
      "[]\n"
     ]
    }
   ],
   "source": [
    "# もし、違う項があれば検出される\n",
    "print(x[x != old_x])\n",
    "print(y[y != old_y])"
   ]
  },
  {
   "cell_type": "code",
   "execution_count": 8,
   "metadata": {
    "collapsed": false
   },
   "outputs": [
    {
     "name": "stdout",
     "output_type": "stream",
     "text": [
      "10 loops, best of 3: 76.8 ms per loop\n"
     ]
    }
   ],
   "source": [
    "%timeit twoproduct(a, b)"
   ]
  },
  {
   "cell_type": "code",
   "execution_count": 9,
   "metadata": {
    "collapsed": false
   },
   "outputs": [
    {
     "name": "stdout",
     "output_type": "stream",
     "text": [
      "1 loop, best of 3: 4.22 s per loop\n"
     ]
    }
   ],
   "source": [
    "%timeit twoproduct_old(a, b)"
   ]
  }
 ],
 "metadata": {
  "kernelspec": {
   "display_name": "Python 3",
   "language": "python",
   "name": "python3"
  },
  "language_info": {
   "codemirror_mode": {
    "name": "ipython",
    "version": 3
   },
   "file_extension": ".py",
   "mimetype": "text/x-python",
   "name": "python",
   "nbconvert_exporter": "python",
   "pygments_lexer": "ipython3",
   "version": "3.5.1"
  }
 },
 "nbformat": 4,
 "nbformat_minor": 0
}

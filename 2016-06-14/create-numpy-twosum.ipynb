{
 "cells": [
  {
   "cell_type": "code",
   "execution_count": 1,
   "metadata": {
    "collapsed": true
   },
   "outputs": [],
   "source": [
    "import numpy as np\n",
    "from pint.core import roundfloat as rf"
   ]
  },
  {
   "cell_type": "code",
   "execution_count": 2,
   "metadata": {
    "collapsed": true
   },
   "outputs": [],
   "source": [
    "def fasttwosum(a, b):\n",
    "    x = a + b\n",
    "    tmp = x - a\n",
    "    y = b - tmp\n",
    "    return x, y"
   ]
  },
  {
   "cell_type": "code",
   "execution_count": 3,
   "metadata": {
    "collapsed": true
   },
   "outputs": [],
   "source": [
    "def twosum(a, b):\n",
    "    x = np.zeros(a.shape)\n",
    "    y = np.zeros(a.shape)\n",
    "    # aBb: a is bigger than b\n",
    "    aBb = abs(a) > abs(b)\n",
    "    ta = a[aBb]\n",
    "    tb = b[aBb]\n",
    "    tx, ty = fasttwosum(ta, tb)\n",
    "    x[aBb] = tx\n",
    "    y[aBb] = ty\n",
    "    # 実質 abs(a) <= abs(b)\n",
    "    bBa = ~aBb\n",
    "    ta = a[bBa]\n",
    "    tb = b[bBa]\n",
    "    tx, ty = fasttwosum(tb, ta)\n",
    "    x[bBa] = tx\n",
    "    y[bBa] = ty\n",
    "    return x, y"
   ]
  },
  {
   "cell_type": "code",
   "execution_count": 4,
   "metadata": {
    "collapsed": false
   },
   "outputs": [],
   "source": [
    "pntwosum = rf.twosum\n",
    "def twosum_old(a, b):\n",
    "    x = np.zeros(a.shape)\n",
    "    y = np.zeros(a.shape)\n",
    "    lenx = len(x)\n",
    "    for j in range(0, lenx):\n",
    "        for i in range(0, lenx):\n",
    "            x[i][j], y[i][j] = pntwosum(a[i][j], b[i][j])\n",
    "    return x, y"
   ]
  },
  {
   "cell_type": "code",
   "execution_count": 5,
   "metadata": {
    "collapsed": true
   },
   "outputs": [],
   "source": [
    "size = 1000\n",
    "a = np.random.rand(size, size)\n",
    "b = np.random.rand(size, size)"
   ]
  },
  {
   "cell_type": "code",
   "execution_count": 6,
   "metadata": {
    "collapsed": true
   },
   "outputs": [],
   "source": [
    "x, y = twosum(a, b)\n",
    "old_x, old_y = twosum_old(a, b)"
   ]
  },
  {
   "cell_type": "code",
   "execution_count": 7,
   "metadata": {
    "collapsed": false
   },
   "outputs": [
    {
     "name": "stdout",
     "output_type": "stream",
     "text": [
      "[]\n",
      "[]\n"
     ]
    }
   ],
   "source": [
    "# もし、違う項があれば検出される\n",
    "print(x[x != old_x])\n",
    "print(y[y != old_y])"
   ]
  },
  {
   "cell_type": "code",
   "execution_count": 8,
   "metadata": {
    "collapsed": false,
    "scrolled": false
   },
   "outputs": [
    {
     "name": "stdout",
     "output_type": "stream",
     "text": [
      "10 loops, best of 3: 80.7 ms per loop\n"
     ]
    }
   ],
   "source": [
    "%timeit twosum(a, b)"
   ]
  },
  {
   "cell_type": "code",
   "execution_count": 9,
   "metadata": {
    "collapsed": false,
    "scrolled": false
   },
   "outputs": [
    {
     "name": "stdout",
     "output_type": "stream",
     "text": [
      "1 loop, best of 3: 2 s per loop\n"
     ]
    }
   ],
   "source": [
    "%timeit twosum_old(a, b)"
   ]
  }
 ],
 "metadata": {
  "kernelspec": {
   "display_name": "Python 3",
   "language": "python",
   "name": "python3"
  },
  "language_info": {
   "codemirror_mode": {
    "name": "ipython",
    "version": 3
   },
   "file_extension": ".py",
   "mimetype": "text/x-python",
   "name": "python",
   "nbconvert_exporter": "python",
   "pygments_lexer": "ipython3",
   "version": "3.5.1"
  }
 },
 "nbformat": 4,
 "nbformat_minor": 0
}

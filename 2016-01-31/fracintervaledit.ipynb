{
 "cells": [
  {
   "cell_type": "markdown",
   "metadata": {},
   "source": [
    "# 分数区間を用いた、浮動小数点数の区間包含について"
   ]
  },
  {
   "cell_type": "code",
   "execution_count": 1,
   "metadata": {
    "collapsed": true
   },
   "outputs": [],
   "source": [
    "import pint as pn\n",
    "from pint import roundfloat as rf\n",
    "from pint import roundmode as rdm\n",
    "import fractions"
   ]
  },
  {
   "cell_type": "code",
   "execution_count": 2,
   "metadata": {
    "collapsed": true
   },
   "outputs": [],
   "source": [
    "def frac_interval_proto(a):\n",
    "    aH, aL = rf.split(a)\n",
    "    if aL ==0:\n",
    "        answer = pn.interval(a)\n",
    "    else:\n",
    "        aS = rf.succ(a)\n",
    "        aP = rf.pred(a)\n",
    "        aS_c, aS_p = aS.as_integer_ratio()\n",
    "        aP_c, aP_p = aP.as_integer_ratio()\n",
    "        a_c, a_p = a.as_integer_ratio()\n",
    "        bS_c = a_c * aS_p + aS_c * a_p\n",
    "        bS_p = a_p * aS_p * 2\n",
    "        bP_c = a_c  * aP_p + aP_c * a_p\n",
    "        bP_p = a_p * aP_p * 2\n",
    "        answer = pn.interval(0.)\n",
    "        answer.inf = fractions.Fraction(bP_c, bP_p)\n",
    "        answer.sup = fractions.Fraction(bS_c, bS_p)\n",
    "    return answer"
   ]
  },
  {
   "cell_type": "markdown",
   "metadata": {},
   "source": [
    "今回は、代入演算子を用いて区間型を生成した際に、初期値を包含しない区間が発生するのを防ぐ分数区間を生成する。  \n",
    "すなわち"
   ]
  },
  {
   "cell_type": "code",
   "execution_count": 3,
   "metadata": {
    "collapsed": true
   },
   "outputs": [],
   "source": [
    "a = 0.1"
   ]
  },
  {
   "cell_type": "code",
   "execution_count": 4,
   "metadata": {
    "collapsed": true
   },
   "outputs": [],
   "source": [
    "itv_a = pn.interval(a)"
   ]
  },
  {
   "cell_type": "code",
   "execution_count": 5,
   "metadata": {
    "collapsed": false
   },
   "outputs": [
    {
     "data": {
      "text/plain": [
       "'0.10000000000000001'"
      ]
     },
     "execution_count": 5,
     "metadata": {},
     "output_type": "execute_result"
    }
   ],
   "source": [
    "format(itv_a.inf, '.17g')"
   ]
  },
  {
   "cell_type": "code",
   "execution_count": 6,
   "metadata": {
    "collapsed": false
   },
   "outputs": [
    {
     "data": {
      "text/plain": [
       "'0.10000000000000001'"
      ]
     },
     "execution_count": 6,
     "metadata": {},
     "output_type": "execute_result"
    }
   ],
   "source": [
    "format(itv_a.sup, '.17g')"
   ]
  },
  {
   "cell_type": "markdown",
   "metadata": {},
   "source": [
    "のような区間が発生することを防ぐ。  \n",
    "なお、今回以外の解決方法としては"
   ]
  },
  {
   "cell_type": "code",
   "execution_count": 7,
   "metadata": {
    "collapsed": false
   },
   "outputs": [],
   "source": [
    "itv_a.inf = rf.pred(a)\n",
    "itv_a.sup = rf.succ(a)"
   ]
  },
  {
   "cell_type": "code",
   "execution_count": 8,
   "metadata": {
    "collapsed": false
   },
   "outputs": [
    {
     "data": {
      "text/plain": [
       "'0.099999999999999992'"
      ]
     },
     "execution_count": 8,
     "metadata": {},
     "output_type": "execute_result"
    }
   ],
   "source": [
    "format(itv_a.inf, '.17g')"
   ]
  },
  {
   "cell_type": "code",
   "execution_count": 9,
   "metadata": {
    "collapsed": false
   },
   "outputs": [
    {
     "data": {
      "text/plain": [
       "'0.10000000000000002'"
      ]
     },
     "execution_count": 9,
     "metadata": {},
     "output_type": "execute_result"
    }
   ],
   "source": [
    "format(itv_a.sup,'.17g')"
   ]
  },
  {
   "cell_type": "markdown",
   "metadata": {},
   "source": [
    "のようにsucc predを用いることで解決可能である。  \n",
    "しかし、今回のアルゴリズムのほうが、より区間幅を縮小できる。  \n",
    "  \n",
    "__まず、上位ビットと下位ビットを分離する__"
   ]
  },
  {
   "cell_type": "code",
   "execution_count": 10,
   "metadata": {
    "collapsed": true
   },
   "outputs": [],
   "source": [
    "aH, aL = rf.split(a)"
   ]
  },
  {
   "cell_type": "markdown",
   "metadata": {},
   "source": [
    "もし、下位ビットが存在する場合、else文以降の通りにする。  \n",
    "(下位ビットが存在しない浮動小数点数で点区間を生成した場合、元の初期値を包含する区間になる可能性が高い  \n",
    "元の初期値の下位ビットが全て1で、近似の際にくりあがりで下位ビットが消去された場合、おかしくなるかも)"
   ]
  },
  {
   "cell_type": "code",
   "execution_count": 11,
   "metadata": {
    "collapsed": false
   },
   "outputs": [
    {
     "name": "stdout",
     "output_type": "stream",
     "text": [
      "False\n"
     ]
    }
   ],
   "source": [
    "if aL ==0:\n",
    "    print(True)\n",
    "    answer = pn.interval(a)\n",
    "else:\n",
    "    print(False)"
   ]
  },
  {
   "cell_type": "markdown",
   "metadata": {},
   "source": [
    "以下はelseの続き\n",
    "  \n",
    "次にaをsucc predし、as_intger_ratio()で近似分数にする"
   ]
  },
  {
   "cell_type": "code",
   "execution_count": 12,
   "metadata": {
    "collapsed": true
   },
   "outputs": [],
   "source": [
    "aS = rf.succ(a)\n",
    "aP = rf.pred(a)"
   ]
  },
  {
   "cell_type": "code",
   "execution_count": 13,
   "metadata": {
    "collapsed": true
   },
   "outputs": [],
   "source": [
    "aS_c, aS_p = aS.as_integer_ratio()\n",
    "aP_c, aP_p = aP.as_integer_ratio()"
   ]
  },
  {
   "cell_type": "code",
   "execution_count": 14,
   "metadata": {
    "collapsed": true
   },
   "outputs": [],
   "source": [
    "a_c, a_p = a.as_integer_ratio()"
   ]
  },
  {
   "cell_type": "markdown",
   "metadata": {},
   "source": [
    "__次に、aとsuccしたaの中点と、aとpredしたaの中点を求める。__"
   ]
  },
  {
   "cell_type": "code",
   "execution_count": 15,
   "metadata": {
    "collapsed": false
   },
   "outputs": [],
   "source": [
    "bS_c = a_c * aS_p + aS_c * a_p\n",
    "bS_p = a_p * aS_p * 2\n",
    "bP_c = a_c  * aP_p + aP_c * a_p\n",
    "bP_p = a_p * aP_p * 2"
   ]
  },
  {
   "cell_type": "markdown",
   "metadata": {},
   "source": [
    "こうして得た、分数bSとbPとaは以下の性質を満たす  \n",
    "  \n",
    "浮動小数点数として評価した場合、同値である。"
   ]
  },
  {
   "cell_type": "code",
   "execution_count": 16,
   "metadata": {
    "collapsed": false
   },
   "outputs": [
    {
     "data": {
      "text/plain": [
       "True"
      ]
     },
     "execution_count": 16,
     "metadata": {},
     "output_type": "execute_result"
    }
   ],
   "source": [
    "bS_c / bS_p == a == bP_c / bP_p"
   ]
  },
  {
   "cell_type": "markdown",
   "metadata": {},
   "source": [
    "分数として評価するとbP <= a <= bSが成立する  \n",
    "(以下は、分母と通分するためbS_pやら、a_pがかけられている。今回は bP < a < bSとなっていることをわかりやすくするため、等号の場合は考慮していない)  \n",
    "  \n",
    "  __a <= bS__"
   ]
  },
  {
   "cell_type": "code",
   "execution_count": 17,
   "metadata": {
    "collapsed": false
   },
   "outputs": [
    {
     "data": {
      "text/plain": [
       "True"
      ]
     },
     "execution_count": 17,
     "metadata": {},
     "output_type": "execute_result"
    }
   ],
   "source": [
    "a_c * bS_p < bS_c * a_p "
   ]
  },
  {
   "cell_type": "markdown",
   "metadata": {},
   "source": [
    "__bP <= a__"
   ]
  },
  {
   "cell_type": "code",
   "execution_count": 18,
   "metadata": {
    "collapsed": false
   },
   "outputs": [
    {
     "data": {
      "text/plain": [
       "True"
      ]
     },
     "execution_count": 18,
     "metadata": {},
     "output_type": "execute_result"
    }
   ],
   "source": [
    "bP_c * a_p < a_c * bP_p"
   ]
  },
  {
   "cell_type": "markdown",
   "metadata": {},
   "source": [
    "よって、分数で評価すると大小関係が存在するが、浮動小数点数で評価すると値が一致する分数区間が得られた"
   ]
  },
  {
   "cell_type": "markdown",
   "metadata": {},
   "source": [
    "なお、succ predで得られたitv_aと比較すると"
   ]
  },
  {
   "cell_type": "code",
   "execution_count": 19,
   "metadata": {
    "collapsed": false
   },
   "outputs": [
    {
     "data": {
      "text/plain": [
       "True"
      ]
     },
     "execution_count": 19,
     "metadata": {},
     "output_type": "execute_result"
    }
   ],
   "source": [
    "rf.pred(a) < bP_c / bP_p"
   ]
  },
  {
   "cell_type": "code",
   "execution_count": 20,
   "metadata": {
    "collapsed": false
   },
   "outputs": [
    {
     "data": {
      "text/plain": [
       "True"
      ]
     },
     "execution_count": 20,
     "metadata": {},
     "output_type": "execute_result"
    }
   ],
   "source": [
    "bS_c / bS_p < rf.succ(a)"
   ]
  },
  {
   "cell_type": "markdown",
   "metadata": {},
   "source": [
    "となり、succ predよりも狭い区間幅が得られた。"
   ]
  },
  {
   "cell_type": "code",
   "execution_count": 21,
   "metadata": {
    "collapsed": false
   },
   "outputs": [],
   "source": [
    "answer = pn.interval(0.)"
   ]
  },
  {
   "cell_type": "code",
   "execution_count": 22,
   "metadata": {
    "collapsed": true
   },
   "outputs": [],
   "source": [
    "answer.inf = fractions.Fraction(bP_c, bP_p)\n",
    "answer.sup = fractions.Fraction(bS_c, bS_p)"
   ]
  },
  {
   "cell_type": "code",
   "execution_count": 23,
   "metadata": {
    "collapsed": false
   },
   "outputs": [
    {
     "name": "stdout",
     "output_type": "stream",
     "text": [
      "[14411518807585587/144115188075855872,14411518807585589/144115188075855872]\n"
     ]
    }
   ],
   "source": [
    "print(answer)"
   ]
  },
  {
   "cell_type": "markdown",
   "metadata": {
    "collapsed": true
   },
   "source": [
    "今回は  \n",
    "\n",
    "- 引数が正の場合しか考慮していない\n",
    "- float.as_intger_ratio()で得られる分数が、最近点丸めで近似されたaと厳密に同じかどうか考慮していない\n",
    "- 分数演算の有効桁数に由来する計算誤差を考慮していない(分母、分子ともに巨大な整数になりがちである)\n",
    "- その後の分数の演算方法を考慮していない(作ったは良いが、使い方を考えていない)\n",
    "  \n",
    "などの問題がある  \n",
    "最後の分数の演算に関しては以下のようにするアイデアがあるが、検証はしていない"
   ]
  },
  {
   "cell_type": "markdown",
   "metadata": {},
   "source": [
    "| 分数 * 分数 |分数 * 浮動小数点数(下位ビットがない) |分数 * 浮動小数点数(下位ビットがある)\n",
    "|:------------:|:------------:|:-------:|\n",
    "| 分数演算をしたあと、丸め制御で適切な浮動小数点数にする | 分子 * 小数を計算後、丸め制御で適切な浮動小数点数にする | 小数を分数に変換したあと、分数 * 分数に帰着させる|  \n",
    "つまり、分数は生成はするが、なるべく浮動小数点数に戻すようにする。"
   ]
  }
 ],
 "metadata": {
  "kernelspec": {
   "display_name": "Python 3",
   "language": "python",
   "name": "python3"
  },
  "language_info": {
   "codemirror_mode": {
    "name": "ipython",
    "version": 3
   },
   "file_extension": ".py",
   "mimetype": "text/x-python",
   "name": "python",
   "nbconvert_exporter": "python",
   "pygments_lexer": "ipython3",
   "version": "3.5.1"
  }
 },
 "nbformat": 4,
 "nbformat_minor": 0
}
